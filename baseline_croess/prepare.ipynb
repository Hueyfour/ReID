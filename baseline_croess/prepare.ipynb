{
 "cells": [
  {
   "cell_type": "code",
   "execution_count": 13,
   "metadata": {},
   "outputs": [],
   "source": [
    "import os\n",
    "from shutil import copyfile"
   ]
  },
  {
   "cell_type": "code",
   "execution_count": 14,
   "metadata": {},
   "outputs": [],
   "source": [
    "download_path = '/home/yxy/ReID/data/DukeMTMC-reID'\n",
    "\n",
    "if not os.path.isdir(download_path):\n",
    "    print('please change the download_path')"
   ]
  },
  {
   "cell_type": "code",
   "execution_count": 15,
   "metadata": {},
   "outputs": [],
   "source": [
    "save_path = download_path + '/pytorch'\n",
    "if not os.path.isdir(save_path):\n",
    "    os.mkdir(save_path)"
   ]
  },
  {
   "cell_type": "code",
   "execution_count": 16,
   "metadata": {},
   "outputs": [],
   "source": [
    "#query\n",
    "query_path = download_path + '/query'\n",
    "query_save_path = download_path + '/pytorch/query'\n",
    "if not os.path.isdir(query_save_path):\n",
    "    os.mkdir(query_save_path)\n",
    "\n",
    "for root, dirs, files in os.walk(query_path, topdown=True):\n",
    "    for name in files:\n",
    "        if not name[-3:]=='jpg':\n",
    "            continue\n",
    "        ID  = name.split('_')\n",
    "        src_path = query_path + '/' + name\n",
    "        dst_path = query_save_path + '/' + ID[0] \n",
    "        if not os.path.isdir(dst_path):\n",
    "            os.mkdir(dst_path)\n",
    "        copyfile(src_path, dst_path + '/' + name)"
   ]
  },
  {
   "cell_type": "code",
   "execution_count": 18,
   "metadata": {},
   "outputs": [],
   "source": [
    "#gallery\n",
    "gallery_path = download_path + '/bounding_box_test'\n",
    "gallery_save_path = download_path + '/pytorch/gallery'\n",
    "if not os.path.isdir(gallery_save_path):\n",
    "    os.mkdir(gallery_save_path)\n",
    "    \n",
    "for root, dirs, files in os.walk(gallery_path, topdown=True):\n",
    "    for name in files:\n",
    "        if not name[-3:] == 'jpg':\n",
    "            continue\n",
    "        ID = name.split('_')\n",
    "        src_path = gallery_path + '/' + name\n",
    "        dst_path = gallery_save_path + '/' + ID[0]\n",
    "        if not os.path.isdir(dst_path):\n",
    "            os.mkdir(dst_path)\n",
    "        copyfile(src_path, dst_path + '/' + name)"
   ]
  },
  {
   "cell_type": "code",
   "execution_count": 20,
   "metadata": {},
   "outputs": [],
   "source": [
    "#train_all\n",
    "train_path = download_path + '/bounding_box_train'\n",
    "train_save_path = download_path + '/pytorch/train_all'\n",
    "if not os.path.isdir(train_save_path):\n",
    "    os.mkdir(train_save_path)\n",
    "\n",
    "for root, dirs, files in os.walk(train_path, topdown=True):\n",
    "    for name in files:\n",
    "        if not name[-3:]=='jpg':\n",
    "            continue\n",
    "        ID  = name.split('_')\n",
    "        src_path = train_path + '/' + name\n",
    "        dst_path = train_save_path + '/' + ID[0]\n",
    "        if not os.path.isdir(dst_path):\n",
    "            os.mkdir(dst_path)\n",
    "        copyfile(src_path, dst_path + '/' + name)"
   ]
  },
  {
   "cell_type": "code",
   "execution_count": 21,
   "metadata": {},
   "outputs": [],
   "source": [
    "#train_val\n",
    "train_path = download_path + '/bounding_box_train'\n",
    "train_save_path = download_path + '/pytorch/train'\n",
    "val_save_path = download_path + '/pytorch/val'\n",
    "if not os.path.isdir(train_save_path):\n",
    "    os.mkdir(train_save_path)\n",
    "    os.mkdir(val_save_path)\n",
    "\n",
    "for root, dirs, files in os.walk(train_path, topdown=True):\n",
    "    for name in files:\n",
    "        if not name[-3:]=='jpg':\n",
    "            continue\n",
    "        ID  = name.split('_')\n",
    "        src_path = train_path + '/' + name\n",
    "        dst_path = train_save_path + '/' + ID[0]\n",
    "        if not os.path.isdir(dst_path):\n",
    "            os.mkdir(dst_path)\n",
    "            dst_path = val_save_path + '/' + ID[0]  #first image is used as val image\n",
    "            os.mkdir(dst_path)\n",
    "        copyfile(src_path, dst_path + '/' + name)"
   ]
  },
  {
   "cell_type": "code",
   "execution_count": null,
   "metadata": {},
   "outputs": [],
   "source": []
  }
 ],
 "metadata": {
  "kernelspec": {
   "display_name": "Python 3",
   "language": "python",
   "name": "python3"
  },
  "language_info": {
   "codemirror_mode": {
    "name": "ipython",
    "version": 3
   },
   "file_extension": ".py",
   "mimetype": "text/x-python",
   "name": "python",
   "nbconvert_exporter": "python",
   "pygments_lexer": "ipython3",
   "version": "3.6.7"
  }
 },
 "nbformat": 4,
 "nbformat_minor": 2
}
